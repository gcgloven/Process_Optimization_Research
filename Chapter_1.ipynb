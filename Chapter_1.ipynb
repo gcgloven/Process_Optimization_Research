{
 "cells": [
  {
   "cell_type": "markdown",
   "id": "f41ddd00-853e-4aa8-9da8-ef7a89602c94",
   "metadata": {},
   "source": [
    "## Single Service Center M/M/1 queue model"
   ]
  },
  {
   "cell_type": "code",
   "execution_count": 3,
   "id": "10c9878e-39f8-49b9-a5c9-4cb8ffb8e991",
   "metadata": {},
   "outputs": [
    {
     "name": "stdout",
     "output_type": "stream",
     "text": [
      "Utilization: 0.4\n",
      "Residence Time: 1.3333333333333333 seconds\n",
      "Queue Length: 0.6666666666666666 customers\n"
     ]
    }
   ],
   "source": [
    "\n",
    "# Arrival rate of customers (lambda), in customers per second\n",
    "workload_intensity = 0.5 \n",
    "\n",
    "# Service rate (mu), in services per second\n",
    "service_demand = 1.25 \n",
    "\n",
    "# Utilization (rho): proportion of time the server is busy\n",
    "# Utilization is calculated as the ratio of the arrival rate to the service rate\n",
    "utilization = workload_intensity / service_demand  \n",
    "\n",
    "# Residence Time (T): Average time spent at the service center per customer \n",
    "# This includes both queueing and receiving service.\n",
    "# Calculated as the inverse of the difference between service rate and arrival rate\n",
    "residence_time = 1 / (service_demand - workload_intensity)  # Both Queueing and Receiving Service\n",
    "\n",
    "# Queue Length (L): Average number of customers in the system (both waiting and being served)\n",
    "# Calculated as the arrival rate times the residence time\n",
    "queue_length = workload_intensity * residence_time\n",
    "\n",
    "# Print out the calculated values\n",
    "print(f\"Utilization: {utilization}\")\n",
    "print(f\"Residence Time: {residence_time} seconds\")\n",
    "print(f\"Queue Length: {queue_length} customers\")\n"
   ]
  },
  {
   "cell_type": "markdown",
   "id": "377de1f3-0ad2-4343-9297-7ceccc35121c",
   "metadata": {},
   "source": [
    "## Multiple Server System\n",
    "### (M/M/c queue), where c represents the number of servers, you'll need to adjust the formulas slightly. \n",
    "For an M/M/c queue system, the calculations for utilization, residence time, and queue length become more complex because they involve dealing with multiple servers, which may lead to different queuing dynamics."
   ]
  },
  {
   "cell_type": "code",
   "execution_count": 7,
   "id": "0cf0fd14-7093-4188-b31c-aace77b54cb4",
   "metadata": {},
   "outputs": [
    {
     "name": "stdout",
     "output_type": "stream",
     "text": [
      "Utilization per server: 0.08\n",
      "Residence Time: 0.8000086503728784 seconds\n",
      "Queue Length: 0.4000043251864392 customers\n"
     ]
    }
   ],
   "source": [
    "import math\n",
    "\n",
    "## Multiple Service Centers M/M/c queue model\n",
    "\n",
    "# Arrival rate of customers (lambda), in customers per second\n",
    "workload_intensity = 0.5\n",
    "\n",
    "# Service rate per server (mu), in services per second\n",
    "service_demand = 1.25\n",
    "\n",
    "# Number of servers (c)\n",
    "num_servers = 5\n",
    "\n",
    "# Utilization (rho) per server: proportion of time each server is busy\n",
    "# Utilization is calculated as the ratio of the arrival rate to the total service rate across all servers\n",
    "utilization_per_server = workload_intensity / (num_servers * service_demand)\n",
    "\n",
    "# Check if the system is stable (rho < 1)\n",
    "if utilization_per_server >= 1:\n",
    "    print(\"The system is unstable. Please adjust the parameters.\")\n",
    "else:\n",
    "    # Erlang C formula components\n",
    "    A = (workload_intensity / service_demand)  # Traffic intensity for the system\n",
    "    Po = 1 / (sum([(A**n) / math.factorial(n) for n in range(num_servers)]) + \n",
    "             ((A**num_servers) / (math.factorial(num_servers) * (1 - utilization_per_server))))\n",
    "\n",
    "    # Probability that a customer has to wait\n",
    "    Pw = ((A**num_servers) / (math.factorial(num_servers) * (1 - utilization_per_server))) * Po\n",
    "\n",
    "    # Average number of customers in the queue\n",
    "    Lq = Pw * A / (num_servers * service_demand - workload_intensity)\n",
    "\n",
    "    # Average time a customer spends in the queue\n",
    "    Wq = Lq / workload_intensity\n",
    "\n",
    "    # Residence Time (T): Average time spent at the service center per customer\n",
    "    residence_time = Wq + (1 / service_demand)\n",
    "\n",
    "    # Queue Length (L): Average number of customers in the system (both waiting and being served)\n",
    "    queue_length = workload_intensity * residence_time\n",
    "\n",
    "    # Print out the calculated values\n",
    "    print(f\"Utilization per server: {utilization_per_server}\")\n",
    "    print(f\"Residence Time: {residence_time} seconds\")\n",
    "    print(f\"Queue Length: {queue_length} customers\")\n"
   ]
  },
  {
   "cell_type": "markdown",
   "id": "b5190f6e-8a48-4ed1-a200-9de7546322e1",
   "metadata": {},
   "source": [
    "## Chapter 2 \n",
    "Queueing network modeling is a high-level approach used in computer system analysis that focuses on the principal components and their interactions, rather than on low-level system details. This method relies on simplifying assumptions to eliminate irrelevant details and to focus on the primary effects that influence the results of the study. \n",
    "\n",
    "These assumptions are driven by three main considerations: the need for simplicity, the adequacy of measurements, and the ease of model evaluation.\n",
    "\n",
    "The approach requires a **balance between the complexity of real systems and the practicality of the model**, ensuring it remains computationally efficient while still capturing the essential behavior of the system. Effective queueing network modeling **involves careful selection of inputs, a clear understanding of assumptions, and the ability to evaluate the sensitivity of outcomes to these assumptions**. This methodology allows for different levels of depth in understanding, suitable for readers with varying degrees of experience in modeling studies.\n",
    "\n",
    "\n",
    "\n",
    "\n",
    "\n",
    "\n"
   ]
  },
  {
   "cell_type": "markdown",
   "id": "1fd0d673-4f46-45b5-a4cd-a62910459fd0",
   "metadata": {},
   "source": [
    "# Little Law "
   ]
  },
  {
   "cell_type": "code",
   "execution_count": 16,
   "id": "d5cfcde2-e11d-4fda-93a8-20ef6ee53213",
   "metadata": {},
   "outputs": [],
   "source": [
    "def calculate_uph(average_units_in_system, average_residence_time_hours):\n",
    "    \"\"\"\n",
    "    Calculate the Units Per Hour (UPH) for a production line.\n",
    "\n",
    "    Parameters:\n",
    "    average_units_in_system (float): Average number of units in the system.\n",
    "    average_residence_time_hours (float): Average residence time in hours per unit.\n",
    "\n",
    "    Returns:\n",
    "    float: Estimated Units Per Hour (UPH).\n",
    "    \"\"\"\n",
    "    if average_residence_time_hours == 0:\n",
    "        raise ValueError(\"Residence time cannot be zero.\")\n",
    "    uph = average_units_in_system / average_residence_time_hours\n",
    "    return uph\n",
    "\n",
    "def calculate_average_units_in_system(uph, average_residence_time_hours):\n",
    "    \"\"\"\n",
    "    Calculate the average number of units in the system given UPH and average residence time.\n",
    "\n",
    "    Parameters:\n",
    "    uph (float): Units Per Hour.\n",
    "    average_residence_time_hours (float): Average residence time in hours per unit.\n",
    "\n",
    "    Returns:\n",
    "    float: Average number of units in the system.\n",
    "    \"\"\"\n",
    "    average_units_in_system = uph * average_residence_time_hours\n",
    "    return average_units_in_system\n",
    "\n",
    "def calculate_average_residence_time(average_units_in_system, uph):\n",
    "    \"\"\"\n",
    "    Calculate the average residence time per unit given the average number of units and UPH.\n",
    "\n",
    "    Parameters:\n",
    "    average_units_in_system (float): Average number of units in the system.\n",
    "    uph (float): Units Per Hour.\n",
    "\n",
    "    Returns:\n",
    "    float: Average residence time in hours per unit.\n",
    "    \"\"\"\n",
    "    if uph == 0:\n",
    "        raise ValueError(\"UPH cannot be zero.\")\n",
    "    average_residence_time_hours = average_units_in_system / uph\n",
    "    return average_residence_time_hours\n",
    "\n",
    "def calculate_queueing_time(average_units_in_system, uph, average_service_time_hours):\n",
    "    \"\"\"\n",
    "    Calculate the average queueing time per unit given the average number of units, UPH, and average service time.\n",
    "\n",
    "    Parameters:\n",
    "    average_units_in_system (float): Average number of units in the system.\n",
    "    uph (float): Units Per Hour.\n",
    "    average_service_time_hours (float): Average service time in hours per unit.\n",
    "\n",
    "    Returns:\n",
    "    float: Average queueing time in hours per unit.\n",
    "    \"\"\"\n",
    "    if uph == 0:\n",
    "        raise ValueError(\"UPH cannot be zero.\")\n",
    "    average_residence_time = average_units_in_system / uph\n",
    "    queueing_time = average_residence_time - average_service_time_hours\n",
    "    return queueing_time\n",
    "\n"
   ]
  },
  {
   "cell_type": "code",
   "execution_count": 14,
   "id": "7a70c53a-2c9f-41d1-9a49-869e541c41f7",
   "metadata": {},
   "outputs": [
    {
     "name": "stdout",
     "output_type": "stream",
     "text": [
      "Average number of units in the system: 48.0\n"
     ]
    }
   ],
   "source": [
    "\n",
    "uph = 120\n",
    "average_residence_time_hours = 0.4\n",
    "average_units = calculate_average_units_in_system(uph, average_residence_time_hours)\n",
    "print(f\"Average number of units in the system: {average_units}\")\n"
   ]
  },
  {
   "cell_type": "code",
   "execution_count": 21,
   "id": "86590766-91fc-413e-a712-bd70d1beb342",
   "metadata": {},
   "outputs": [
    {
     "name": "stdout",
     "output_type": "stream",
     "text": [
      "Average queueing time in hours per unit: 2.477272727272727\n"
     ]
    }
   ],
   "source": [
    "average_units_in_system = 15\n",
    "uph = 5.5\n",
    "average_service_time_hours = 0.25\n",
    "\n",
    "queueing_time = calculate_queueing_time(average_units_in_system, uph, average_service_time_hours)\n",
    "print(f\"Average queueing time in hours per unit: {queueing_time}\")\n"
   ]
  },
  {
   "cell_type": "code",
   "execution_count": 22,
   "id": "50754e81-43f3-49c8-82d8-426631759140",
   "metadata": {},
   "outputs": [],
   "source": [
    "def calculate_residence_time(arrival_rate, service_time):\n",
    "    # Calculate residence time using queue theory, assuming M/M/1 queue\n",
    "    # Residence time is the inverse of the difference between service rate and arrival rate\n",
    "    if service_time == 0 or arrival_rate >= 1/service_time:\n",
    "        return float('inf')  # System is unstable\n",
    "    return 1 / (1/service_time - arrival_rate)\n",
    "\n",
    "def calculate_queue_length(arrival_rate, residence_time):\n",
    "    # Using Little's Law to calculate the average number of units in the system\n",
    "    return arrival_rate * residence_time\n",
    "\n",
    "# Example parameters for each system\n",
    "# You should replace these with actual measured or estimated parameters\n",
    "arrival_rate_1 = 0.1  # units per second\n",
    "service_time_1 = 8    # seconds per unit\n",
    "\n",
    "arrival_rate_2 = 0.1  # units per second\n",
    "service_time_2 = 5    # seconds per unit\n",
    "\n",
    "arrival_rate_3 = 0.1  # units per second\n",
    "service_time_3 = 10   # seconds per unit\n",
    "\n",
    "# Calculate for each subsystem\n",
    "residence_time_1 = calculate_residence_time(arrival_rate_1, service_time_1)\n",
    "queue_length_1 = calculate_queue_length(arrival_rate_1, residence_time_1)\n",
    "\n",
    "residence_time_2 = calculate_residence_time(arrival_rate_2, service_time_2)\n",
    "queue_length_2 = calculate_queue_length(arrival_rate_2, residence_time_2)\n",
    "\n",
    "residence_time_3 = calculate_residence_time(arrival_rate_3, service_time_3)\n",
    "queue_length_3 = calculate_queue_length(arrival_rate_3, residence_time_3)\n",
    "\n",
    "print(f\"System 1: Residence Time = {residence_time_1} s, Queue Length = {queue_length_1}\")\n",
    "print(f\"System 2: Residence Time = {residence_time_2} s, Queue Length = {queue_length_2}\")\n",
    "print(f\"System 3: Residence Time = {residence_time_3} s, Queue Length = {queue_length_3}\")\n"
   ]
  },
  {
   "cell_type": "code",
   "execution_count": 26,
   "id": "ca3d88ab-c9e7-4c59-90f1-e955573236fc",
   "metadata": {},
   "outputs": [
    {
     "name": "stdout",
     "output_type": "stream",
     "text": [
      "System 1: Residence Time = 1.0 hours, Queue Time = 0.19999999999999996 hours\n",
      "System 2: Residence Time = 0.1 hours, Queue Time = -0.4 hours\n",
      "System 3: Residence Time = 1.0 hours, Queue Time = 0.30000000000000004 hours\n"
     ]
    }
   ],
   "source": [
    "throughputs = [10, 100, 10]  # Throughput fixed for all three systems\n",
    "units_in_systems = [10, 10, 10]  # Hypothetical numbers for average units in each system\n",
    "service_times = [0.8, 0.5, 0.7]  # Estimated service times in hours per unit for each system\n",
    "\n",
    "residence_and_queue_times = calculate_residence_and_queue_times(throughputs, units_in_systems, service_times)\n",
    "for i, (R_i, Q_i) in enumerate(residence_and_queue_times, 1):\n",
    "    print(f\"System {i}: Residence Time = {R_i} hours, Queue Time = {Q_i} hours\")\n"
   ]
  },
  {
   "cell_type": "code",
   "execution_count": null,
   "id": "0ddb42b7-3d90-4a9f-b008-1a2af2bb09f7",
   "metadata": {},
   "outputs": [],
   "source": []
  }
 ],
 "metadata": {
  "kernelspec": {
   "display_name": "Python 3 (ipykernel)",
   "language": "python",
   "name": "python3"
  },
  "language_info": {
   "codemirror_mode": {
    "name": "ipython",
    "version": 3
   },
   "file_extension": ".py",
   "mimetype": "text/x-python",
   "name": "python",
   "nbconvert_exporter": "python",
   "pygments_lexer": "ipython3",
   "version": "3.10.14"
  }
 },
 "nbformat": 4,
 "nbformat_minor": 5
}
